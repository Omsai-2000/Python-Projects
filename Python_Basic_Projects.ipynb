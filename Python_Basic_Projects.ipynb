{
  "nbformat": 4,
  "nbformat_minor": 0,
  "metadata": {
    "colab": {
      "provenance": [],
      "authorship_tag": "ABX9TyPHRjMaE516+JlW+4jp3Qss",
      "include_colab_link": true
    },
    "kernelspec": {
      "name": "python3",
      "display_name": "Python 3"
    },
    "language_info": {
      "name": "python"
    }
  },
  "cells": [
    {
      "cell_type": "markdown",
      "metadata": {
        "id": "view-in-github",
        "colab_type": "text"
      },
      "source": [
        "<a href=\"https://colab.research.google.com/github/Omsai-2000/Python-Projects/blob/main/Python_Basic_Projects.ipynb\" target=\"_parent\"><img src=\"https://colab.research.google.com/assets/colab-badge.svg\" alt=\"Open In Colab\"/></a>"
      ]
    },
    {
      "cell_type": "markdown",
      "source": [
        "# **Python Basic Projects**"
      ],
      "metadata": {
        "id": "t4Au78GjcU3G"
      }
    },
    {
      "cell_type": "code",
      "source": [
        "# 1. Create Acronyms using Python\n",
        "\n",
        "User_input=str(input(\"Enter the Phrase: \"))\n",
        "Words=User_input.split()\n",
        "\n",
        "Acronym=\" \"\n",
        "\n",
        "for i in Words:\n",
        "  Acronym=Acronym+str(i[0]).upper()\n",
        "print(Acronym)"
      ],
      "metadata": {
        "colab": {
          "base_uri": "https://localhost:8080/"
        },
        "id": "1IYoY9LfceuD",
        "outputId": "7185d73e-1c03-4b49-a222-cfac999ee195"
      },
      "execution_count": null,
      "outputs": [
        {
          "output_type": "stream",
          "name": "stdout",
          "text": [
            "Enter the Phrase: omsai yatthapu\n",
            " OY\n"
          ]
        }
      ]
    },
    {
      "cell_type": "code",
      "source": [
        "# 2. Email Slicer with Python\n",
        "\n",
        "Email= input(\" Enter Your Email: \").strip()\n",
        "\n",
        "Username=Email[:Email.index(\"@\")]\n",
        "Domain_name=Email[Email.index(\"@\")+1:]\n",
        "\n",
        "print(\"Your Username is {} and Your Domain name is {}\".format(Username,Domain_name))"
      ],
      "metadata": {
        "colab": {
          "base_uri": "https://localhost:8080/"
        },
        "id": "4GwX4gH3nRls",
        "outputId": "35bdc6ff-cd34-4554-e72d-a68f26b44bbb"
      },
      "execution_count": 10,
      "outputs": [
        {
          "output_type": "stream",
          "name": "stdout",
          "text": [
            " Enter Your Email: omsaiyatthapu2000@gmail.com\n",
            "Your Username is omsaiyatthapu2000 and Your Domain name is gmail.com\n"
          ]
        }
      ]
    },
    {
      "cell_type": "code",
      "source": [
        "# 3. Story Generator with Python\n",
        "\n",
        "import random\n",
        "when = ['A few years ago', 'Yesterday', 'Last night', 'A long time ago','On 20th Jan']\n",
        "who = ['a rabbit', 'an elephant', 'a mouse', 'a turtle','a cat']\n",
        "name = ['Ali', 'Miriam','daniel', 'Hoouk', 'Starwalker']\n",
        "residence = ['Barcelona','India', 'Germany', 'Venice', 'England']\n",
        "went = ['cinema', 'university','seminar', 'school', 'laundry']\n",
        "happened = ['made a lot of friends','Eats a burger', 'found a secret key', 'solved a mistery', 'wrote a book']\n",
        "\n",
        "print(random.choice(when) +','+ random.choice(who)+' that lived in '+ random.choice(residence) + ', went to the ' + random.choice(went) + ' and ' + random.choice(happened))"
      ],
      "metadata": {
        "colab": {
          "base_uri": "https://localhost:8080/"
        },
        "id": "gYQv73sFuEYH",
        "outputId": "e0fa5a00-6af1-455d-8469-d349baea7dc3"
      },
      "execution_count": 16,
      "outputs": [
        {
          "output_type": "stream",
          "name": "stdout",
          "text": [
            "Last night,a cat that lived in India, went to the school and made a lot of friends\n"
          ]
        }
      ]
    },
    {
      "cell_type": "code",
      "source": [
        "# 4. Generate Password with Python\n",
        "\n",
        "import random\n",
        "\n",
        "password_len=int(input(\"Enter length of Password: \"))\n",
        "\n",
        "All_characters= 'abcdefghijklmnopqrstuvwxyzABCDEFGHIJKLMNOPQRSTUVWXYZ1234567890!~@#$%^&*'\n",
        "\n",
        "password=\"\".join(random.sample(All_characters,password_len))\n",
        "\n",
        "print(password)"
      ],
      "metadata": {
        "colab": {
          "base_uri": "https://localhost:8080/"
        },
        "id": "836hcTwxwGTG",
        "outputId": "483e9828-d4c6-4488-cabc-b16f54411fe8"
      },
      "execution_count": 17,
      "outputs": [
        {
          "output_type": "stream",
          "name": "stdout",
          "text": [
            "Enter length of Password: 8\n",
            "VR0#%*Kh\n"
          ]
        }
      ]
    },
    {
      "cell_type": "code",
      "source": [],
      "metadata": {
        "id": "SfCSTqFwx3um"
      },
      "execution_count": null,
      "outputs": []
    }
  ]
}