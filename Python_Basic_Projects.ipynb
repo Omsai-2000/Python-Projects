{
  "nbformat": 4,
  "nbformat_minor": 0,
  "metadata": {
    "colab": {
      "provenance": [],
      "authorship_tag": "ABX9TyPdh/Ikb7lBGhNVyj+nRQgo",
      "include_colab_link": true
    },
    "kernelspec": {
      "name": "python3",
      "display_name": "Python 3"
    },
    "language_info": {
      "name": "python"
    }
  },
  "cells": [
    {
      "cell_type": "markdown",
      "metadata": {
        "id": "view-in-github",
        "colab_type": "text"
      },
      "source": [
        "<a href=\"https://colab.research.google.com/github/Omsai-2000/Python-Projects/blob/main/Python_Basic_Projects.ipynb\" target=\"_parent\"><img src=\"https://colab.research.google.com/assets/colab-badge.svg\" alt=\"Open In Colab\"/></a>"
      ]
    },
    {
      "cell_type": "markdown",
      "source": [
        "# **Python Basic Projects**"
      ],
      "metadata": {
        "id": "t4Au78GjcU3G"
      }
    },
    {
      "cell_type": "code",
      "source": [
        "# 1. Create Acronyms using Python\n",
        "\n",
        "User_input=str(input(\"Enter the Phrase: \"))\n",
        "Words=User_input.split()\n",
        "\n",
        "Acronym=\" \"\n",
        "\n",
        "for i in Words:\n",
        "  Acronym=Acronym+str(i[0]).upper()\n",
        "print(Acronym)"
      ],
      "metadata": {
        "colab": {
          "base_uri": "https://localhost:8080/"
        },
        "id": "1IYoY9LfceuD",
        "outputId": "7185d73e-1c03-4b49-a222-cfac999ee195"
      },
      "execution_count": null,
      "outputs": [
        {
          "output_type": "stream",
          "name": "stdout",
          "text": [
            "Enter the Phrase: omsai yatthapu\n",
            " OY\n"
          ]
        }
      ]
    },
    {
      "cell_type": "code",
      "source": [
        "# 2. Email Slicer with Python\n",
        "\n",
        "Email= input(\" Enter Your Email: \").strip()\n",
        "\n",
        "Username=Email[:Email.index(\"@\")]\n",
        "Domain_name=Email[Email.index(\"@\")+1:]\n",
        "\n",
        "print(\"Your Username is {} and Your Domain name is {}\".format(Username,Domain_name))"
      ],
      "metadata": {
        "colab": {
          "base_uri": "https://localhost:8080/"
        },
        "id": "4GwX4gH3nRls",
        "outputId": "35bdc6ff-cd34-4554-e72d-a68f26b44bbb"
      },
      "execution_count": null,
      "outputs": [
        {
          "output_type": "stream",
          "name": "stdout",
          "text": [
            " Enter Your Email: omsaiyatthapu2000@gmail.com\n",
            "Your Username is omsaiyatthapu2000 and Your Domain name is gmail.com\n"
          ]
        }
      ]
    },
    {
      "cell_type": "code",
      "source": [
        "# 3. Story Generator with Python\n",
        "\n",
        "import random\n",
        "when = ['A few years ago', 'Yesterday', 'Last night', 'A long time ago','On 20th Jan']\n",
        "who = ['a rabbit', 'an elephant', 'a mouse', 'a turtle','a cat']\n",
        "name = ['Ali', 'Miriam','daniel', 'Hoouk', 'Starwalker']\n",
        "residence = ['Barcelona','India', 'Germany', 'Venice', 'England']\n",
        "went = ['cinema', 'university','seminar', 'school', 'laundry']\n",
        "happened = ['made a lot of friends','Eats a burger', 'found a secret key', 'solved a mistery', 'wrote a book']\n",
        "\n",
        "print(random.choice(when) +','+ random.choice(who)+' that lived in '+ random.choice(residence) + ', went to the ' + random.choice(went) + ' and ' + random.choice(happened))"
      ],
      "metadata": {
        "colab": {
          "base_uri": "https://localhost:8080/"
        },
        "id": "gYQv73sFuEYH",
        "outputId": "e0fa5a00-6af1-455d-8469-d349baea7dc3"
      },
      "execution_count": null,
      "outputs": [
        {
          "output_type": "stream",
          "name": "stdout",
          "text": [
            "Last night,a cat that lived in India, went to the school and made a lot of friends\n"
          ]
        }
      ]
    },
    {
      "cell_type": "code",
      "source": [
        "# 4. Generate Password with Python\n",
        "\n",
        "import random\n",
        "\n",
        "password_len=int(input(\"Enter length of Password: \"))\n",
        "\n",
        "All_characters= 'abcdefghijklmnopqrstuvwxyzABCDEFGHIJKLMNOPQRSTUVWXYZ1234567890!~@#$%^&*'\n",
        "\n",
        "password=\"\".join(random.sample(All_characters,password_len))\n",
        "\n",
        "print(password)"
      ],
      "metadata": {
        "colab": {
          "base_uri": "https://localhost:8080/"
        },
        "id": "836hcTwxwGTG",
        "outputId": "483e9828-d4c6-4488-cabc-b16f54411fe8"
      },
      "execution_count": null,
      "outputs": [
        {
          "output_type": "stream",
          "name": "stdout",
          "text": [
            "Enter length of Password: 8\n",
            "VR0#%*Kh\n"
          ]
        }
      ]
    },
    {
      "cell_type": "code",
      "source": [
        "# 5. Dice Roll Simulator with Python\n",
        "\n",
        "import random\n",
        "\n",
        "min_val=1\n",
        "max_val=6\n",
        "\n",
        "roll_again=\"yes\"\n",
        "\n",
        "while roll_again==\"yes\" or roll_again==\"y\":\n",
        "\n",
        "  print(\"Rolling the dices...\")\n",
        "  print(\"The values are: \")\n",
        "\n",
        "  print(random.randint(min_val,max_val))\n",
        "  print(random.randint(min_val,max_val))\n",
        "\n",
        "  roll_again=input(\"Roll the dices again ?\")"
      ],
      "metadata": {
        "id": "SfCSTqFwx3um",
        "outputId": "e4d28151-d216-41d8-b429-14b25ba1b0c6",
        "colab": {
          "base_uri": "https://localhost:8080/"
        }
      },
      "execution_count": 2,
      "outputs": [
        {
          "name": "stdout",
          "output_type": "stream",
          "text": [
            "Rolling the dices...\n",
            "The values are: \n",
            "5\n",
            "1\n",
            "Roll the dices again ?y\n",
            "Rolling the dices...\n",
            "The values are: \n",
            "5\n",
            "2\n",
            "Roll the dices again ?y\n",
            "Rolling the dices...\n",
            "The values are: \n",
            "4\n",
            "4\n",
            "Roll the dices again ?y\n",
            "Rolling the dices...\n",
            "The values are: \n",
            "5\n",
            "3\n",
            "Roll the dices again ?n\n"
          ]
        }
      ]
    },
    {
      "cell_type": "code",
      "source": [
        "# 6. QR Codes with Python\n",
        "\n",
        "!pip install pyqrcode\n",
        "\n",
        "import pyqrcode\n",
        "from pyqrcode import QRCode\n",
        "\n",
        "str=\"https://www.linkedin.com/feed/?trk=hb_signin\"\n",
        "\n",
        "url=pyqrcode.create(str)\n",
        "\n",
        "url.svg(\"my_linkedin.svg\",scale=8)"
      ],
      "metadata": {
        "id": "WCIoaWdGokfL",
        "outputId": "190ba73f-3de1-4f58-cad6-ffb4dd6c3e4e",
        "colab": {
          "base_uri": "https://localhost:8080/"
        }
      },
      "execution_count": 9,
      "outputs": [
        {
          "output_type": "stream",
          "name": "stdout",
          "text": [
            "Requirement already satisfied: pyqrcode in /usr/local/lib/python3.10/dist-packages (1.2.1)\n"
          ]
        }
      ]
    },
    {
      "cell_type": "markdown",
      "source": [
        "![my_linkedin.svg](data:image/svg+xml;base64,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)"
      ],
      "metadata": {
        "id": "HKQeLS4YrJD6"
      }
    },
    {
      "cell_type": "code",
      "source": [
        "# 7. Print Colored Text with Python\n",
        "\n",
        "!pip install colorama\n",
        "from colorama import Fore,Back, Style\n",
        "\n",
        "print(Fore.BLUE+Back.YELLOW+\"Hi My Name is Omsai \"+ Fore.RED+Back.GREEN + \"I am passionate about data science \")"
      ],
      "metadata": {
        "id": "vbmx8aEPp08G",
        "outputId": "dd752b6b-bab4-472a-f6f0-94f44aad5360",
        "colab": {
          "base_uri": "https://localhost:8080/"
        }
      },
      "execution_count": 16,
      "outputs": [
        {
          "output_type": "stream",
          "name": "stdout",
          "text": [
            "Requirement already satisfied: colorama in /usr/local/lib/python3.10/dist-packages (0.4.6)\n",
            "\u001b[34m\u001b[43mHi My Name is Omsai \u001b[31m\u001b[42mI am passionate about data science \n"
          ]
        }
      ]
    },
    {
      "cell_type": "code",
      "source": [],
      "metadata": {
        "id": "h1GcW0UdsjSx"
      },
      "execution_count": null,
      "outputs": []
    }
  ]
}